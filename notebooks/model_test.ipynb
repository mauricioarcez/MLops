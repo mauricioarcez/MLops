{
 "cells": [
  {
   "cell_type": "code",
   "execution_count": 4,
   "metadata": {},
   "outputs": [],
   "source": [
    "import pandas as pd \n",
    "import numpy as np\n",
    "\n",
    "from sklearn.feature_extraction.text import TfidfVectorizer\n",
    "from sklearn.decomposition import TruncatedSVD\n",
    "from sklearn.metrics.pairwise import cosine_similarity"
   ]
  },
  {
   "cell_type": "code",
   "execution_count": 5,
   "metadata": {},
   "outputs": [
    {
     "name": "stdout",
     "output_type": "stream",
     "text": [
      "<class 'pandas.core.frame.DataFrame'>\n",
      "RangeIndex: 28894 entries, 0 to 28893\n",
      "Data columns (total 2 columns):\n",
      " #   Column     Non-Null Count  Dtype \n",
      "---  ------     --------------  ----- \n",
      " 0   title      28894 non-null  object\n",
      " 1   predictor  28894 non-null  object\n",
      "dtypes: object(2)\n",
      "memory usage: 451.6+ KB\n"
     ]
    }
   ],
   "source": [
    "df = pd.read_parquet(r'C:\\Users\\mauri\\OneDrive\\Escritorio\\MLops\\data\\processed\\modelo_dataset.parquet')\n",
    "df.info()"
   ]
  },
  {
   "cell_type": "code",
   "execution_count": 10,
   "metadata": {},
   "outputs": [
    {
     "name": "stdout",
     "output_type": "stream",
     "text": [
      "El vectorizador está utilizando 30000 características.\n",
      "Dimensiones reducidas a 100 componentes.\n",
      "Uso de memoria: 532.01171875 MB\n"
     ]
    }
   ],
   "source": [
    "# Crear el vectorizador TF-IDF\n",
    "#vectorizer = TfidfVectorizer(min_df=5, max_df=0.85, ngram_range=(1, 2), max_features=30000, dtype=np.float32) \n",
    "\n",
    "# Transformar la columna 'overview' en una matriz TF-IDF\n",
    "#matriz = vectorizer.fit_transform(df['predictor'])\n",
    "\n",
    "# Reductir la dimensionalidad con SVD.\n",
    "#svd = TruncatedSVD(n_components=100, random_state=42)\n",
    "\n",
    "#matriz_reducida = svd.fit_transform(matriz)\n",
    "#num_features = len(vectorizer.vocabulary_)\n",
    "\n",
    "#import psutil\n",
    "#import os\n",
    "\n",
    "#def get_memory_usage():\n",
    "#    process = psutil.Process(os.getpid())\n",
    "#    mem_info = process.memory_info()\n",
    "#    return mem_info.rss / (1024 * 1024)  # Convertir de bytes a MB\n",
    "\n",
    "#print(f\"Uso de memoria: {get_memory_usage()} MB\")\n",
    "#print(f\"El vectorizador está utilizando {num_features} características.\")\n",
    "#print(f\"Dimensiones reducidas a {matriz_reducida.shape[1]} componentes.\")"
   ]
  },
  {
   "cell_type": "code",
   "execution_count": 11,
   "metadata": {},
   "outputs": [
    {
     "name": "stdout",
     "output_type": "stream",
     "text": [
      "Uso de memoria: 2143.859375 MB\n"
     ]
    }
   ],
   "source": [
    "# Calcular la matriz de similitud del coseno\n",
    "#cosine_sim = cosine_similarity(matriz_reducida, matriz_reducida)\n",
    "\n",
    "\n",
    "#import psutil\n",
    "#import os\n",
    "#def get_memory_usage():\n",
    "#    process = psutil.Process(os.getpid())\n",
    "#    mem_info = process.memory_info()\n",
    "#    return mem_info.rss / (1024 * 1024)  # Convertir de bytes a MB\n",
    "\n",
    "#print(f\"Uso de memoria: {get_memory_usage()} MB\")"
   ]
  },
  {
   "cell_type": "code",
   "execution_count": 8,
   "metadata": {},
   "outputs": [
    {
     "name": "stdout",
     "output_type": "stream",
     "text": [
      "2564           toy story 2\n",
      "18352    hawaiian vacation\n",
      "12578          toy story 3\n",
      "19124      partysaurus rex\n",
      "18354            small fry\n",
      "Name: title, dtype: object\n"
     ]
    }
   ],
   "source": [
    "#def recommendacion(title, cosine_sim=cosine_sim):\n",
    "    # Encuentra el índice de la película\n",
    "#    idx = df.index[df['title'] == title].tolist()\n",
    "#    if not idx:\n",
    "#        return \"Película no encontrada\"\n",
    "#    idx = idx[0]\n",
    "#    \n",
    "#    # Obtén los puntajes de similitud para la película seleccionada\n",
    "#    sim_scores = list(enumerate(cosine_sim[idx]))\n",
    "#    \n",
    "#    # Ordena las películas basadas en la similitud\n",
    "#    sim_scores = sorted(sim_scores, key=lambda x: x[1], reverse=True)\n",
    "#    \n",
    "#    # Obtén los índices de las películas más similares\n",
    "#    movie_indices = [i[0] for i in sim_scores[1:6]]  # 10 películas más similares\n",
    "#    \n",
    "#    return df['title'].iloc[movie_indices]\n",
    "#\n",
    "# Prueba la función de recomendación\n",
    "#print(recommendacion('toy story'))"
   ]
  }
 ],
 "metadata": {
  "kernelspec": {
   "display_name": "aaEntornoPI",
   "language": "python",
   "name": "python3"
  },
  "language_info": {
   "codemirror_mode": {
    "name": "ipython",
    "version": 3
   },
   "file_extension": ".py",
   "mimetype": "text/x-python",
   "name": "python",
   "nbconvert_exporter": "python",
   "pygments_lexer": "ipython3",
   "version": "3.11.0"
  }
 },
 "nbformat": 4,
 "nbformat_minor": 2
}
