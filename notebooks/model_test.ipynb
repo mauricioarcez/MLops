{
 "cells": [
  {
   "cell_type": "code",
   "execution_count": 118,
   "metadata": {},
   "outputs": [],
   "source": [
    "import pandas as pd \n",
    "import numpy as np\n",
    "\n",
    "from sklearn.feature_extraction.text import TfidfVectorizer\n",
    "from sklearn.decomposition import TruncatedSVD\n",
    "from sklearn.metrics.pairwise import cosine_similarity\n"
   ]
  },
  {
   "cell_type": "code",
   "execution_count": 119,
   "metadata": {},
   "outputs": [
    {
     "name": "stdout",
     "output_type": "stream",
     "text": [
      "<class 'pandas.core.frame.DataFrame'>\n",
      "RangeIndex: 28894 entries, 0 to 28893\n",
      "Data columns (total 15 columns):\n",
      " #   Column              Non-Null Count  Dtype  \n",
      "---  ------              --------------  -----  \n",
      " 0   id                  28894 non-null  int64  \n",
      " 1   original_language   28894 non-null  object \n",
      " 2   overview            28894 non-null  object \n",
      " 3   popularity          28894 non-null  float64\n",
      " 4   revenue             28894 non-null  float64\n",
      " 5   runtime             28894 non-null  object \n",
      " 6   title               28894 non-null  object \n",
      " 7   vote_average        28894 non-null  float64\n",
      " 8   vote_count          28894 non-null  int64  \n",
      " 9   release_year        28894 non-null  int64  \n",
      " 10  btc_name            3620 non-null   object \n",
      " 11  combined_companies  28894 non-null  object \n",
      " 12  predictor           28894 non-null  object \n",
      " 13  generos             28894 non-null  object \n",
      " 14  actores             28295 non-null  object \n",
      "dtypes: float64(3), int64(3), object(9)\n",
      "memory usage: 3.3+ MB\n"
     ]
    }
   ],
   "source": [
    "df = pd.read_parquet(r'C:\\Users\\mauri\\OneDrive\\Escritorio\\MLops\\data\\processed\\modelo_dataset.parquet')\n",
    "df.info()"
   ]
  },
  {
   "cell_type": "code",
   "execution_count": 141,
   "metadata": {},
   "outputs": [
    {
     "name": "stdout",
     "output_type": "stream",
     "text": [
      "El vectorizador está utilizando 40000 características.\n",
      "Dimensiones reducidas a 700 componentes.\n"
     ]
    }
   ],
   "source": [
    "# Crear el vectorizador TF-IDF\n",
    "vectorizer = TfidfVectorizer(min_df=3, max_df=0.85, max_features=40000, dtype=np.float32) \n",
    "\n",
    "# Transformar la columna 'overview' en una matriz TF-IDF\n",
    "matriz = vectorizer.fit_transform(df['predictor'])\n",
    "\n",
    "# Reductir la dimensionalidad con SVD.\n",
    "svd = TruncatedSVD(n_components=700, random_state=42)\n",
    "\n",
    "matriz_reducida = svd.fit_transform(matriz)\n",
    "num_features = len(vectorizer.vocabulary_)\n",
    "\n",
    "print(f\"El vectorizador está utilizando {num_features} características.\")\n",
    "print(f\"Dimensiones reducidas a {matriz_reducida.shape[1]} componentes.\")"
   ]
  },
  {
   "cell_type": "code",
   "execution_count": 142,
   "metadata": {},
   "outputs": [],
   "source": [
    "# Calcular la matriz de similitud del coseno\n",
    "cosine_sim = cosine_similarity(matriz_reducida, matriz_reducida)"
   ]
  },
  {
   "cell_type": "code",
   "execution_count": 145,
   "metadata": {},
   "outputs": [
    {
     "name": "stdout",
     "output_type": "stream",
     "text": [
      "21760              the secret life of pets\n",
      "16244                      despicable me 2\n",
      "4113                        monsters, inc.\n",
      "12663                        despicable me\n",
      "11767    cloudy with a chance of meatballs\n",
      "Name: title, dtype: object\n"
     ]
    }
   ],
   "source": [
    "def recommendacion(title, cosine_sim=cosine_sim):\n",
    "    # Encuentra el índice de la película\n",
    "    idx = df.index[df['title'] == title].tolist()\n",
    "    if not idx:\n",
    "        return \"Película no encontrada\"\n",
    "    idx = idx[0]\n",
    "    \n",
    "    # Obtén los puntajes de similitud para la película seleccionada\n",
    "    sim_scores = list(enumerate(cosine_sim[idx]))\n",
    "    \n",
    "    # Ordena las películas basadas en la similitud\n",
    "    sim_scores = sorted(sim_scores, key=lambda x: x[1], reverse=True)\n",
    "    \n",
    "    # Obtén los índices de las películas más similares\n",
    "    movie_indices = [i[0] for i in sim_scores[1:6]]  # 10 películas más similares\n",
    "    \n",
    "    return df['title'].iloc[movie_indices]\n",
    "\n",
    "# Prueba la función de recomendación\n",
    "print(recommendacion('despicable me 3'))"
   ]
  },
  {
   "cell_type": "code",
   "execution_count": 123,
   "metadata": {},
   "outputs": [],
   "source": [
    "# Despicable me 3\n",
    "# \n"
   ]
  }
 ],
 "metadata": {
  "kernelspec": {
   "display_name": "aaEntornoPI",
   "language": "python",
   "name": "python3"
  },
  "language_info": {
   "codemirror_mode": {
    "name": "ipython",
    "version": 3
   },
   "file_extension": ".py",
   "mimetype": "text/x-python",
   "name": "python",
   "nbconvert_exporter": "python",
   "pygments_lexer": "ipython3",
   "version": "3.11.0"
  }
 },
 "nbformat": 4,
 "nbformat_minor": 2
}
