{
 "cells": [
  {
   "cell_type": "code",
   "execution_count": 22,
   "metadata": {},
   "outputs": [],
   "source": [
    "import pandas as pd \n",
    "import nltk\n",
    "\n",
    "\n",
    "from nltk.corpus import stopwords\n",
    "from sklearn.metrics.pairwise import cosine_similarity\n",
    "from sklearn.preprocessing import StandardScaler"
   ]
  },
  {
   "cell_type": "code",
   "execution_count": 23,
   "metadata": {},
   "outputs": [
    {
     "name": "stdout",
     "output_type": "stream",
     "text": [
      "<class 'pandas.core.frame.DataFrame'>\n",
      "RangeIndex: 44842 entries, 0 to 44841\n",
      "Data columns (total 19 columns):\n",
      " #   Column                   Non-Null Count  Dtype  \n",
      "---  ------                   --------------  -----  \n",
      " 0   budget                   44842 non-null  float64\n",
      " 1   id                       44842 non-null  int64  \n",
      " 2   original_language        44833 non-null  object \n",
      " 3   overview                 43936 non-null  object \n",
      " 4   popularity               44842 non-null  float64\n",
      " 5   revenue                  44842 non-null  float64\n",
      " 6   runtime                  44842 non-null  object \n",
      " 7   tagline                  20286 non-null  object \n",
      " 8   title                    44842 non-null  object \n",
      " 9   vote_average             44842 non-null  float64\n",
      " 10  vote_count               44842 non-null  int64  \n",
      " 11  release_year             44842 non-null  int64  \n",
      " 12  return                   44842 non-null  float64\n",
      " 13  btc_id                   4466 non-null   float64\n",
      " 14  btc_name                 4466 non-null   object \n",
      " 15  genres_id                44842 non-null  int64  \n",
      " 16  production_companies_id  44842 non-null  int64  \n",
      " 17  production_countries_id  44842 non-null  int64  \n",
      " 18  spoken_languages_id      44842 non-null  int64  \n",
      "dtypes: float64(6), int64(7), object(6)\n",
      "memory usage: 6.5+ MB\n"
     ]
    }
   ],
   "source": [
    "df = pd.read_parquet(r'C:\\Users\\mauri\\OneDrive\\Escritorio\\MLops\\data\\processed\\modelo_dataset.parquet')\n",
    "df.info()"
   ]
  }
 ],
 "metadata": {
  "kernelspec": {
   "display_name": "aaEntornoPI",
   "language": "python",
   "name": "python3"
  },
  "language_info": {
   "codemirror_mode": {
    "name": "ipython",
    "version": 3
   },
   "file_extension": ".py",
   "mimetype": "text/x-python",
   "name": "python",
   "nbconvert_exporter": "python",
   "pygments_lexer": "ipython3",
   "version": "3.11.0"
  }
 },
 "nbformat": 4,
 "nbformat_minor": 2
}
