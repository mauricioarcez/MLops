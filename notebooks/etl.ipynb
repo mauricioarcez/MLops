{
 "cells": [
  {
   "cell_type": "code",
   "execution_count": 26,
   "metadata": {},
   "outputs": [],
   "source": [
    "import sys\n",
    "import os\n",
    "\n",
    "# Agregar la ruta del directorio scripts\n",
    "sys.path.append(os.path.abspath(os.path.join('..', 'scripts')))"
   ]
  },
  {
   "cell_type": "markdown",
   "metadata": {},
   "source": [
    "### Extract and Transform"
   ]
  },
  {
   "cell_type": "markdown",
   "metadata": {},
   "source": [
    "Se convirtio el dataset `movies_dataset.csv` a formato `parquet` con las siguientes modificaciones:\n",
    "\n",
    "- **Columnas eliminadas**: `video`, `imdb_id`, `adult`, `original_title`, `poster_path`, `homepage`\n",
    "- **Valores nulos rellenados**:\n",
    "  - `revenue`: 0\n",
    "  - `budget`: 0\n",
    "- **Conversión de tipos**:\n",
    "  - `popularity`: `float64`\n",
    "  - `budget`: `int64`\n",
    "  - `id`: `int64`"
   ]
  },
  {
   "cell_type": "markdown",
   "metadata": {},
   "source": [
    "En la carpeta `scripts/convert_csv_to_parquet.py` puedes ver el funcionamiento de la funcion.\n",
    "- Una vez transformado se recomienda eliminar el archivo .csv "
   ]
  },
  {
   "cell_type": "code",
   "execution_count": 28,
   "metadata": {},
   "outputs": [
    {
     "name": "stderr",
     "output_type": "stream",
     "text": [
      "c:\\Users\\mauri\\OneDrive\\Escritorio\\MLops\\scripts\\convert_csv_to_parquet.py:33: DtypeWarning: Columns (10) have mixed types. Specify dtype option on import or set low_memory=False.\n",
      "  df = pd.read_csv(csv_path)\n"
     ]
    },
    {
     "name": "stdout",
     "output_type": "stream",
     "text": [
      "Warning: Conversion de columna 'popularity' a 'float64' fallo. se intentara con pd.to_numeric.\n",
      "Warning: Conversion de columna 'budget' a 'int64' fallo. se intentara con pd.to_numeric.\n",
      "Warning: Conversion de columna 'id' a 'int64' fallo. se intentara con pd.to_numeric.\n"
     ]
    }
   ],
   "source": [
    "from convert_csv_to_parquet import convertir_csv_a_parquet\n",
    "\n",
    "convertir_csv_a_parquet(\n",
    "    r'C:\\Users\\mauri\\OneDrive\\Escritorio\\MLops\\data\\raw\\movies_dataset.csv', # Origen\n",
    "    r'C:\\Users\\mauri\\OneDrive\\Escritorio\\MLops\\data\\raw\\movies_dataset.parquet', # Destino\n",
    "    columns_to_drop=['video','imdb_id','adult','original_title','poster_path','homepage'],\n",
    "    fillna_values={'revenue': 0, 'budget': 0},\n",
    "    dtype_conversion={'popularity': 'float64', 'budget':'int64','id':'int64'}\n",
    ")"
   ]
  },
  {
   "cell_type": "code",
   "execution_count": 29,
   "metadata": {},
   "outputs": [
    {
     "data": {
      "text/html": [
       "<div>\n",
       "<style scoped>\n",
       "    .dataframe tbody tr th:only-of-type {\n",
       "        vertical-align: middle;\n",
       "    }\n",
       "\n",
       "    .dataframe tbody tr th {\n",
       "        vertical-align: top;\n",
       "    }\n",
       "\n",
       "    .dataframe thead th {\n",
       "        text-align: right;\n",
       "    }\n",
       "</style>\n",
       "<table border=\"1\" class=\"dataframe\">\n",
       "  <thead>\n",
       "    <tr style=\"text-align: right;\">\n",
       "      <th></th>\n",
       "      <th>belongs_to_collection</th>\n",
       "      <th>budget</th>\n",
       "      <th>genres</th>\n",
       "      <th>id</th>\n",
       "      <th>original_language</th>\n",
       "      <th>overview</th>\n",
       "      <th>popularity</th>\n",
       "      <th>production_companies</th>\n",
       "      <th>production_countries</th>\n",
       "      <th>release_date</th>\n",
       "      <th>revenue</th>\n",
       "      <th>runtime</th>\n",
       "      <th>spoken_languages</th>\n",
       "      <th>status</th>\n",
       "      <th>tagline</th>\n",
       "      <th>title</th>\n",
       "      <th>vote_average</th>\n",
       "      <th>vote_count</th>\n",
       "    </tr>\n",
       "  </thead>\n",
       "  <tbody>\n",
       "    <tr>\n",
       "      <th>0</th>\n",
       "      <td>{'id': 10194, 'name': 'Toy Story Collection', ...</td>\n",
       "      <td>30000000.0</td>\n",
       "      <td>[{'id': 16, 'name': 'Animation'}, {'id': 35, '...</td>\n",
       "      <td>862.0</td>\n",
       "      <td>en</td>\n",
       "      <td>Led by Woody, Andy's toys live happily in his ...</td>\n",
       "      <td>21.946943</td>\n",
       "      <td>[{'name': 'Pixar Animation Studios', 'id': 3}]</td>\n",
       "      <td>[{'iso_3166_1': 'US', 'name': 'United States o...</td>\n",
       "      <td>1995-10-30</td>\n",
       "      <td>373554033.0</td>\n",
       "      <td>81.0</td>\n",
       "      <td>[{'iso_639_1': 'en', 'name': 'English'}]</td>\n",
       "      <td>Released</td>\n",
       "      <td>None</td>\n",
       "      <td>Toy Story</td>\n",
       "      <td>7.7</td>\n",
       "      <td>5415.0</td>\n",
       "    </tr>\n",
       "    <tr>\n",
       "      <th>1</th>\n",
       "      <td>None</td>\n",
       "      <td>65000000.0</td>\n",
       "      <td>[{'id': 12, 'name': 'Adventure'}, {'id': 14, '...</td>\n",
       "      <td>8844.0</td>\n",
       "      <td>en</td>\n",
       "      <td>When siblings Judy and Peter discover an encha...</td>\n",
       "      <td>17.015539</td>\n",
       "      <td>[{'name': 'TriStar Pictures', 'id': 559}, {'na...</td>\n",
       "      <td>[{'iso_3166_1': 'US', 'name': 'United States o...</td>\n",
       "      <td>1995-12-15</td>\n",
       "      <td>262797249.0</td>\n",
       "      <td>104.0</td>\n",
       "      <td>[{'iso_639_1': 'en', 'name': 'English'}, {'iso...</td>\n",
       "      <td>Released</td>\n",
       "      <td>Roll the dice and unleash the excitement!</td>\n",
       "      <td>Jumanji</td>\n",
       "      <td>6.9</td>\n",
       "      <td>2413.0</td>\n",
       "    </tr>\n",
       "    <tr>\n",
       "      <th>2</th>\n",
       "      <td>{'id': 119050, 'name': 'Grumpy Old Men Collect...</td>\n",
       "      <td>0.0</td>\n",
       "      <td>[{'id': 10749, 'name': 'Romance'}, {'id': 35, ...</td>\n",
       "      <td>15602.0</td>\n",
       "      <td>en</td>\n",
       "      <td>A family wedding reignites the ancient feud be...</td>\n",
       "      <td>11.712900</td>\n",
       "      <td>[{'name': 'Warner Bros.', 'id': 6194}, {'name'...</td>\n",
       "      <td>[{'iso_3166_1': 'US', 'name': 'United States o...</td>\n",
       "      <td>1995-12-22</td>\n",
       "      <td>0.0</td>\n",
       "      <td>101.0</td>\n",
       "      <td>[{'iso_639_1': 'en', 'name': 'English'}]</td>\n",
       "      <td>Released</td>\n",
       "      <td>Still Yelling. Still Fighting. Still Ready for...</td>\n",
       "      <td>Grumpier Old Men</td>\n",
       "      <td>6.5</td>\n",
       "      <td>92.0</td>\n",
       "    </tr>\n",
       "  </tbody>\n",
       "</table>\n",
       "</div>"
      ],
      "text/plain": [
       "                               belongs_to_collection      budget  \\\n",
       "0  {'id': 10194, 'name': 'Toy Story Collection', ...  30000000.0   \n",
       "1                                               None  65000000.0   \n",
       "2  {'id': 119050, 'name': 'Grumpy Old Men Collect...         0.0   \n",
       "\n",
       "                                              genres       id  \\\n",
       "0  [{'id': 16, 'name': 'Animation'}, {'id': 35, '...    862.0   \n",
       "1  [{'id': 12, 'name': 'Adventure'}, {'id': 14, '...   8844.0   \n",
       "2  [{'id': 10749, 'name': 'Romance'}, {'id': 35, ...  15602.0   \n",
       "\n",
       "  original_language                                           overview  \\\n",
       "0                en  Led by Woody, Andy's toys live happily in his ...   \n",
       "1                en  When siblings Judy and Peter discover an encha...   \n",
       "2                en  A family wedding reignites the ancient feud be...   \n",
       "\n",
       "   popularity                               production_companies  \\\n",
       "0   21.946943     [{'name': 'Pixar Animation Studios', 'id': 3}]   \n",
       "1   17.015539  [{'name': 'TriStar Pictures', 'id': 559}, {'na...   \n",
       "2   11.712900  [{'name': 'Warner Bros.', 'id': 6194}, {'name'...   \n",
       "\n",
       "                                production_countries release_date  \\\n",
       "0  [{'iso_3166_1': 'US', 'name': 'United States o...   1995-10-30   \n",
       "1  [{'iso_3166_1': 'US', 'name': 'United States o...   1995-12-15   \n",
       "2  [{'iso_3166_1': 'US', 'name': 'United States o...   1995-12-22   \n",
       "\n",
       "       revenue  runtime                                   spoken_languages  \\\n",
       "0  373554033.0     81.0           [{'iso_639_1': 'en', 'name': 'English'}]   \n",
       "1  262797249.0    104.0  [{'iso_639_1': 'en', 'name': 'English'}, {'iso...   \n",
       "2          0.0    101.0           [{'iso_639_1': 'en', 'name': 'English'}]   \n",
       "\n",
       "     status                                            tagline  \\\n",
       "0  Released                                               None   \n",
       "1  Released          Roll the dice and unleash the excitement!   \n",
       "2  Released  Still Yelling. Still Fighting. Still Ready for...   \n",
       "\n",
       "              title  vote_average  vote_count  \n",
       "0         Toy Story           7.7      5415.0  \n",
       "1           Jumanji           6.9      2413.0  \n",
       "2  Grumpier Old Men           6.5        92.0  "
      ]
     },
     "execution_count": 29,
     "metadata": {},
     "output_type": "execute_result"
    }
   ],
   "source": [
    "import pandas as pd\n",
    "\n",
    "df = pd.read_parquet(r'C:\\Users\\mauri\\OneDrive\\Escritorio\\MLops\\data\\raw\\movies_dataset.parquet')\n",
    "df.head(3)"
   ]
  },
  {
   "cell_type": "markdown",
   "metadata": {},
   "source": [
    "Eliminar valores nulos de `release_date`"
   ]
  },
  {
   "cell_type": "code",
   "execution_count": 30,
   "metadata": {},
   "outputs": [],
   "source": [
    "df = df.dropna(subset=['release_date'])"
   ]
  },
  {
   "cell_type": "markdown",
   "metadata": {},
   "source": [
    "formato `AAAA-mm-dd` en fechas, y creacion de columna `release_year` para el año de estreno."
   ]
  },
  {
   "cell_type": "code",
   "execution_count": 31,
   "metadata": {},
   "outputs": [
    {
     "data": {
      "text/html": [
       "<div>\n",
       "<style scoped>\n",
       "    .dataframe tbody tr th:only-of-type {\n",
       "        vertical-align: middle;\n",
       "    }\n",
       "\n",
       "    .dataframe tbody tr th {\n",
       "        vertical-align: top;\n",
       "    }\n",
       "\n",
       "    .dataframe thead th {\n",
       "        text-align: right;\n",
       "    }\n",
       "</style>\n",
       "<table border=\"1\" class=\"dataframe\">\n",
       "  <thead>\n",
       "    <tr style=\"text-align: right;\">\n",
       "      <th></th>\n",
       "      <th>belongs_to_collection</th>\n",
       "      <th>budget</th>\n",
       "      <th>genres</th>\n",
       "      <th>id</th>\n",
       "      <th>original_language</th>\n",
       "      <th>overview</th>\n",
       "      <th>popularity</th>\n",
       "      <th>production_companies</th>\n",
       "      <th>production_countries</th>\n",
       "      <th>release_date</th>\n",
       "      <th>revenue</th>\n",
       "      <th>runtime</th>\n",
       "      <th>spoken_languages</th>\n",
       "      <th>status</th>\n",
       "      <th>tagline</th>\n",
       "      <th>title</th>\n",
       "      <th>vote_average</th>\n",
       "      <th>vote_count</th>\n",
       "    </tr>\n",
       "  </thead>\n",
       "  <tbody>\n",
       "    <tr>\n",
       "      <th>19730</th>\n",
       "      <td>0.065736</td>\n",
       "      <td>NaN</td>\n",
       "      <td>[{'name': 'Carousel Productions', 'id': 11176}...</td>\n",
       "      <td>NaN</td>\n",
       "      <td>104.0</td>\n",
       "      <td>Released</td>\n",
       "      <td>NaN</td>\n",
       "      <td>False</td>\n",
       "      <td>6.0</td>\n",
       "      <td>1</td>\n",
       "      <td>0.0</td>\n",
       "      <td>NaN</td>\n",
       "      <td>None</td>\n",
       "      <td>None</td>\n",
       "      <td>None</td>\n",
       "      <td>None</td>\n",
       "      <td>NaN</td>\n",
       "      <td>NaN</td>\n",
       "    </tr>\n",
       "    <tr>\n",
       "      <th>29503</th>\n",
       "      <td>1.931659</td>\n",
       "      <td>NaN</td>\n",
       "      <td>[{'name': 'Aniplex', 'id': 2883}, {'name': 'Go...</td>\n",
       "      <td>NaN</td>\n",
       "      <td>68.0</td>\n",
       "      <td>Released</td>\n",
       "      <td>NaN</td>\n",
       "      <td>False</td>\n",
       "      <td>7.0</td>\n",
       "      <td>12</td>\n",
       "      <td>0.0</td>\n",
       "      <td>NaN</td>\n",
       "      <td>None</td>\n",
       "      <td>None</td>\n",
       "      <td>None</td>\n",
       "      <td>None</td>\n",
       "      <td>NaN</td>\n",
       "      <td>NaN</td>\n",
       "    </tr>\n",
       "    <tr>\n",
       "      <th>35587</th>\n",
       "      <td>2.185485</td>\n",
       "      <td>NaN</td>\n",
       "      <td>[{'name': 'Odyssey Media', 'id': 17161}, {'nam...</td>\n",
       "      <td>NaN</td>\n",
       "      <td>82.0</td>\n",
       "      <td>Released</td>\n",
       "      <td>NaN</td>\n",
       "      <td>False</td>\n",
       "      <td>4.3</td>\n",
       "      <td>22</td>\n",
       "      <td>0.0</td>\n",
       "      <td>NaN</td>\n",
       "      <td>None</td>\n",
       "      <td>None</td>\n",
       "      <td>None</td>\n",
       "      <td>None</td>\n",
       "      <td>NaN</td>\n",
       "      <td>NaN</td>\n",
       "    </tr>\n",
       "  </tbody>\n",
       "</table>\n",
       "</div>"
      ],
      "text/plain": [
       "      belongs_to_collection  budget  \\\n",
       "19730              0.065736     NaN   \n",
       "29503              1.931659     NaN   \n",
       "35587              2.185485     NaN   \n",
       "\n",
       "                                                  genres  id  \\\n",
       "19730  [{'name': 'Carousel Productions', 'id': 11176}... NaN   \n",
       "29503  [{'name': 'Aniplex', 'id': 2883}, {'name': 'Go... NaN   \n",
       "35587  [{'name': 'Odyssey Media', 'id': 17161}, {'nam... NaN   \n",
       "\n",
       "      original_language  overview  popularity production_companies  \\\n",
       "19730             104.0  Released         NaN                False   \n",
       "29503              68.0  Released         NaN                False   \n",
       "35587              82.0  Released         NaN                False   \n",
       "\n",
       "      production_countries release_date  revenue  runtime spoken_languages  \\\n",
       "19730                  6.0            1      0.0      NaN             None   \n",
       "29503                  7.0           12      0.0      NaN             None   \n",
       "35587                  4.3           22      0.0      NaN             None   \n",
       "\n",
       "      status tagline title  vote_average  vote_count  \n",
       "19730   None    None  None           NaN         NaN  \n",
       "29503   None    None  None           NaN         NaN  \n",
       "35587   None    None  None           NaN         NaN  "
      ]
     },
     "execution_count": 31,
     "metadata": {},
     "output_type": "execute_result"
    }
   ],
   "source": [
    "# Identificar las filas con valores incorrectos\n",
    "incorrect_format = df[~df['release_date'].str.match(r'^\\d{4}-\\d{2}-\\d{2}$', na=False)]\n",
    "# Muestra las filas con formato incorrecto.\n",
    "incorrect_format\n",
    "\n",
    "# Ya que los errores no pueden ser corregidos manualmente por falta de informacion\n",
    "# Y ademas las demas filas parecieran incorrectas y con muchos Nan. Se procede a eliminar estos datos."
   ]
  },
  {
   "cell_type": "code",
   "execution_count": 32,
   "metadata": {},
   "outputs": [],
   "source": [
    "# Se borraron esas 3 filas del df.\n",
    "df.drop(incorrect_format.index, inplace=True)"
   ]
  },
  {
   "cell_type": "code",
   "execution_count": 33,
   "metadata": {},
   "outputs": [
    {
     "data": {
      "text/html": [
       "<div>\n",
       "<style scoped>\n",
       "    .dataframe tbody tr th:only-of-type {\n",
       "        vertical-align: middle;\n",
       "    }\n",
       "\n",
       "    .dataframe tbody tr th {\n",
       "        vertical-align: top;\n",
       "    }\n",
       "\n",
       "    .dataframe thead th {\n",
       "        text-align: right;\n",
       "    }\n",
       "</style>\n",
       "<table border=\"1\" class=\"dataframe\">\n",
       "  <thead>\n",
       "    <tr style=\"text-align: right;\">\n",
       "      <th></th>\n",
       "      <th>release_date</th>\n",
       "      <th>release_year</th>\n",
       "    </tr>\n",
       "  </thead>\n",
       "  <tbody>\n",
       "    <tr>\n",
       "      <th>3661</th>\n",
       "      <td>1998-06-25</td>\n",
       "      <td>1998</td>\n",
       "    </tr>\n",
       "    <tr>\n",
       "      <th>7551</th>\n",
       "      <td>2002-12-12</td>\n",
       "      <td>2002</td>\n",
       "    </tr>\n",
       "    <tr>\n",
       "      <th>24256</th>\n",
       "      <td>2014-09-19</td>\n",
       "      <td>2014</td>\n",
       "    </tr>\n",
       "    <tr>\n",
       "      <th>3333</th>\n",
       "      <td>2000-03-23</td>\n",
       "      <td>2000</td>\n",
       "    </tr>\n",
       "    <tr>\n",
       "      <th>22994</th>\n",
       "      <td>2013-09-06</td>\n",
       "      <td>2013</td>\n",
       "    </tr>\n",
       "  </tbody>\n",
       "</table>\n",
       "</div>"
      ],
      "text/plain": [
       "      release_date  release_year\n",
       "3661    1998-06-25          1998\n",
       "7551    2002-12-12          2002\n",
       "24256   2014-09-19          2014\n",
       "3333    2000-03-23          2000\n",
       "22994   2013-09-06          2013"
      ]
     },
     "execution_count": 33,
     "metadata": {},
     "output_type": "execute_result"
    }
   ],
   "source": [
    "# Ahora si pasamos a datetime con formato aaaa-mm-dd\n",
    "df['release_date'] = pd.to_datetime(df['release_date'], format='%Y-%m-%d')\n",
    "\n",
    "# Creacion columna release_year y muestra. \n",
    "df['release_year'] = df['release_date'].dt.year\n",
    "df[['release_date','release_year']].sample(5)\n"
   ]
  },
  {
   "cell_type": "markdown",
   "metadata": {},
   "source": [
    "crear columna  `return` dividiendo  `revenue` / `budget`, cuando no hay datos para calcularlo, tomar valor 0.\n",
    "\n"
   ]
  },
  {
   "cell_type": "code",
   "execution_count": 34,
   "metadata": {},
   "outputs": [],
   "source": [
    "df['return'] = df.apply(lambda row: row['revenue'] / row['budget'] if pd.notnull(row['revenue']) and pd.notnull(row['budget']) and row['budget'] != 0 else 0, axis=1)"
   ]
  },
  {
   "cell_type": "markdown",
   "metadata": {},
   "source": [
    "- `belongs_to_collection `,  `production_companies ` ,  `genres ` ,  `production_countries`,  `spoken_languages` están anidados.\n",
    "- deberán desanidarlos O buscar la manera de acceder sin desanidarlos.\n",
    "\n",
    "### Empecemos por `belongs_to_collection `"
   ]
  },
  {
   "cell_type": "code",
   "execution_count": 35,
   "metadata": {},
   "outputs": [
    {
     "data": {
      "text/plain": [
       "belongs_to_collection\n",
       "<class 'NoneType'>    40888\n",
       "<class 'str'>          4488\n",
       "Name: count, dtype: int64"
      ]
     },
     "execution_count": 35,
     "metadata": {},
     "output_type": "execute_result"
    }
   ],
   "source": [
    "# Esta columna contiene 40888 datos nulos y sus formatos en str . \n",
    "df['belongs_to_collection'].apply(type).value_counts() "
   ]
  },
  {
   "cell_type": "code",
   "execution_count": 36,
   "metadata": {},
   "outputs": [
    {
     "data": {
      "text/html": [
       "<div>\n",
       "<style scoped>\n",
       "    .dataframe tbody tr th:only-of-type {\n",
       "        vertical-align: middle;\n",
       "    }\n",
       "\n",
       "    .dataframe tbody tr th {\n",
       "        vertical-align: top;\n",
       "    }\n",
       "\n",
       "    .dataframe thead th {\n",
       "        text-align: right;\n",
       "    }\n",
       "</style>\n",
       "<table border=\"1\" class=\"dataframe\">\n",
       "  <thead>\n",
       "    <tr style=\"text-align: right;\">\n",
       "      <th></th>\n",
       "      <th>belongs_to_collection_type</th>\n",
       "      <th>belongs_to_collection</th>\n",
       "    </tr>\n",
       "  </thead>\n",
       "  <tbody>\n",
       "    <tr>\n",
       "      <th>0</th>\n",
       "      <td>str</td>\n",
       "      <td>{'id': 10194, 'name': 'Toy Story Collection', ...</td>\n",
       "    </tr>\n",
       "    <tr>\n",
       "      <th>1</th>\n",
       "      <td>NoneType</td>\n",
       "      <td>None</td>\n",
       "    </tr>\n",
       "    <tr>\n",
       "      <th>2</th>\n",
       "      <td>str</td>\n",
       "      <td>{'id': 119050, 'name': 'Grumpy Old Men Collect...</td>\n",
       "    </tr>\n",
       "    <tr>\n",
       "      <th>3</th>\n",
       "      <td>NoneType</td>\n",
       "      <td>None</td>\n",
       "    </tr>\n",
       "  </tbody>\n",
       "</table>\n",
       "</div>"
      ],
      "text/plain": [
       "  belongs_to_collection_type  \\\n",
       "0                        str   \n",
       "1                   NoneType   \n",
       "2                        str   \n",
       "3                   NoneType   \n",
       "\n",
       "                               belongs_to_collection  \n",
       "0  {'id': 10194, 'name': 'Toy Story Collection', ...  \n",
       "1                                               None  \n",
       "2  {'id': 119050, 'name': 'Grumpy Old Men Collect...  \n",
       "3                                               None  "
      ]
     },
     "execution_count": 36,
     "metadata": {},
     "output_type": "execute_result"
    }
   ],
   "source": [
    "# Por lo tanto crearemos una nueva columna que muestre su tipo de dato\n",
    "df['belongs_to_collection_type'] = df['belongs_to_collection'].apply(lambda x: type(x).__name__)\n",
    "\n",
    "# Podemos observar que estan anidados como string, en vez de dict, esto dificulta saber si son strings o diccionarios realmente para su transformacion\n",
    "df[['belongs_to_collection_type','belongs_to_collection']].head(4)"
   ]
  },
  {
   "cell_type": "code",
   "execution_count": 37,
   "metadata": {},
   "outputs": [
    {
     "data": {
      "text/html": [
       "<div>\n",
       "<style scoped>\n",
       "    .dataframe tbody tr th:only-of-type {\n",
       "        vertical-align: middle;\n",
       "    }\n",
       "\n",
       "    .dataframe tbody tr th {\n",
       "        vertical-align: top;\n",
       "    }\n",
       "\n",
       "    .dataframe thead th {\n",
       "        text-align: right;\n",
       "    }\n",
       "</style>\n",
       "<table border=\"1\" class=\"dataframe\">\n",
       "  <thead>\n",
       "    <tr style=\"text-align: right;\">\n",
       "      <th></th>\n",
       "      <th>belongs_to_collection</th>\n",
       "      <th>belongs_to_collection_type</th>\n",
       "    </tr>\n",
       "  </thead>\n",
       "  <tbody>\n",
       "    <tr>\n",
       "      <th>0</th>\n",
       "      <td>{'id': 10194, 'name': 'Toy Story Collection', ...</td>\n",
       "      <td>dict</td>\n",
       "    </tr>\n",
       "    <tr>\n",
       "      <th>1</th>\n",
       "      <td>None</td>\n",
       "      <td>NoneType</td>\n",
       "    </tr>\n",
       "    <tr>\n",
       "      <th>2</th>\n",
       "      <td>{'id': 119050, 'name': 'Grumpy Old Men Collect...</td>\n",
       "      <td>dict</td>\n",
       "    </tr>\n",
       "    <tr>\n",
       "      <th>3</th>\n",
       "      <td>None</td>\n",
       "      <td>NoneType</td>\n",
       "    </tr>\n",
       "  </tbody>\n",
       "</table>\n",
       "</div>"
      ],
      "text/plain": [
       "                               belongs_to_collection  \\\n",
       "0  {'id': 10194, 'name': 'Toy Story Collection', ...   \n",
       "1                                               None   \n",
       "2  {'id': 119050, 'name': 'Grumpy Old Men Collect...   \n",
       "3                                               None   \n",
       "\n",
       "  belongs_to_collection_type  \n",
       "0                       dict  \n",
       "1                   NoneType  \n",
       "2                       dict  \n",
       "3                   NoneType  "
      ]
     },
     "execution_count": 37,
     "metadata": {},
     "output_type": "execute_result"
    }
   ],
   "source": [
    "import ast\n",
    "\n",
    "# Función para convertir  str en diccionarios en caso de serlo.\n",
    "def convert_dict(val: any) -> dict | str | None:\n",
    "    \"\"\"\n",
    "    Convierte un posible diccionario con (type:str), A su forma verdadera (type:dict).\n",
    "    Si la fila de entrada es NaN, devuelve None. Si el valor ya es un diccionario, lo devuelve\n",
    "    sin cambios. Para entradas str, intenta analizarlas como diccionario. Si no es un diccionario ni un nulo, devuelve su forma original de str.\n",
    "\n",
    "    Parameters:\n",
    "    --------\n",
    "    val: Any\n",
    "        El valor a verificar y convertir, puede ser str, dict o Nan.\n",
    "\n",
    "    Returns:\n",
    "    --------\n",
    "    dict |  str | None:\n",
    "        dict si la conversión es exitosa, str si no puede convertirse en diccionario, None si ya era nulo.\n",
    "    \"\"\"\n",
    "    \n",
    "    \n",
    "    if pd.isna(val):\n",
    "        return None\n",
    "\n",
    "    if isinstance(val, str): \n",
    "        try:\n",
    "            # Reemplazar 'Null' por 'None' para que sea un dict válido\n",
    "            val = val.replace('Null', 'None')\n",
    "\n",
    "            # Asegurarse de que el valor empiece y termine con { }\n",
    "            if val.startswith('{') and val.endswith('}'):\n",
    "                # Evaluar el str como un diccionario usando ast.literal_eval\n",
    "                return ast.literal_eval(val)\n",
    "            \n",
    "            # Si el valor no es un dict válido, devolver la cadena original\n",
    "            return val\n",
    "        except (ValueError, SyntaxError) as e:\n",
    "            print(f\"Error convirtiendo el valor: {val}\\nError: {e}\")\n",
    "            return val\n",
    "    \n",
    "    return val  # Si ya es un diccionario, lo devolvemos sin cambiar\n",
    "\n",
    "\n",
    "df['belongs_to_collection'] = df['belongs_to_collection'].apply(convert_dict)\n",
    "\n",
    "df['belongs_to_collection_type'] = df['belongs_to_collection'].apply(lambda x: type(x).__name__)\n",
    "\n",
    "# Mostrar el DataFrame con los tipos corregidos\n",
    "df[[ 'belongs_to_collection', 'belongs_to_collection_type']].head(4)"
   ]
  },
  {
   "cell_type": "code",
   "execution_count": 38,
   "metadata": {},
   "outputs": [
    {
     "data": {
      "text/plain": [
       "belongs_to_collection\n",
       "<class 'NoneType'>    40888\n",
       "<class 'dict'>         4488\n",
       "Name: count, dtype: int64"
      ]
     },
     "execution_count": 38,
     "metadata": {},
     "output_type": "execute_result"
    }
   ],
   "source": [
    "# Ahora si podemos verificar que no hay strings escondidos o erroneos y que todos son diccionarios en realidad.\n",
    "df['belongs_to_collection'].apply(type).value_counts() "
   ]
  },
  {
   "cell_type": "code",
   "execution_count": 39,
   "metadata": {},
   "outputs": [
    {
     "data": {
      "text/html": [
       "<div>\n",
       "<style scoped>\n",
       "    .dataframe tbody tr th:only-of-type {\n",
       "        vertical-align: middle;\n",
       "    }\n",
       "\n",
       "    .dataframe tbody tr th {\n",
       "        vertical-align: top;\n",
       "    }\n",
       "\n",
       "    .dataframe thead th {\n",
       "        text-align: right;\n",
       "    }\n",
       "</style>\n",
       "<table border=\"1\" class=\"dataframe\">\n",
       "  <thead>\n",
       "    <tr style=\"text-align: right;\">\n",
       "      <th></th>\n",
       "      <th>btc_id</th>\n",
       "      <th>btc_name</th>\n",
       "      <th>btc_poster_path</th>\n",
       "      <th>btc_backdrop_path</th>\n",
       "    </tr>\n",
       "  </thead>\n",
       "  <tbody>\n",
       "    <tr>\n",
       "      <th>0</th>\n",
       "      <td>10194.0</td>\n",
       "      <td>Toy Story Collection</td>\n",
       "      <td>/7G9915LfUQ2lVfwMEEhDsn3kT4B.jpg</td>\n",
       "      <td>/9FBwqcd9IRruEDUrTdcaafOMKUq.jpg</td>\n",
       "    </tr>\n",
       "    <tr>\n",
       "      <th>1</th>\n",
       "      <td>NaN</td>\n",
       "      <td>NaN</td>\n",
       "      <td>NaN</td>\n",
       "      <td>NaN</td>\n",
       "    </tr>\n",
       "    <tr>\n",
       "      <th>2</th>\n",
       "      <td>119050.0</td>\n",
       "      <td>Grumpy Old Men Collection</td>\n",
       "      <td>/nLvUdqgPgm3F85NMCii9gVFUcet.jpg</td>\n",
       "      <td>/hypTnLot2z8wpFS7qwsQHW1uV8u.jpg</td>\n",
       "    </tr>\n",
       "    <tr>\n",
       "      <th>3</th>\n",
       "      <td>NaN</td>\n",
       "      <td>NaN</td>\n",
       "      <td>NaN</td>\n",
       "      <td>NaN</td>\n",
       "    </tr>\n",
       "  </tbody>\n",
       "</table>\n",
       "</div>"
      ],
      "text/plain": [
       "     btc_id                   btc_name                   btc_poster_path  \\\n",
       "0   10194.0       Toy Story Collection  /7G9915LfUQ2lVfwMEEhDsn3kT4B.jpg   \n",
       "1       NaN                        NaN                               NaN   \n",
       "2  119050.0  Grumpy Old Men Collection  /nLvUdqgPgm3F85NMCii9gVFUcet.jpg   \n",
       "3       NaN                        NaN                               NaN   \n",
       "\n",
       "                  btc_backdrop_path  \n",
       "0  /9FBwqcd9IRruEDUrTdcaafOMKUq.jpg  \n",
       "1                               NaN  \n",
       "2  /hypTnLot2z8wpFS7qwsQHW1uV8u.jpg  \n",
       "3                               NaN  "
      ]
     },
     "execution_count": 39,
     "metadata": {},
     "output_type": "execute_result"
    }
   ],
   "source": [
    "# Desanidar los diccionarios en la columna 'belongs_to_collection'\n",
    "belong_desanidado = pd.json_normalize(df['belongs_to_collection'])\n",
    "\n",
    "# Renombrar las columnas agregando el prefijo 'btc_'\n",
    "belong_desanidado.rename(columns={'id': 'btc_id',\n",
    "                                  'name':'btc_name',\n",
    "                                  'poster_path':'btc_poster_path',\n",
    "                                  'backdrop_path': 'btc_backdrop_path'}, inplace=True)\n",
    "belong_desanidado.head(4)"
   ]
  },
  {
   "cell_type": "code",
   "execution_count": 40,
   "metadata": {},
   "outputs": [],
   "source": [
    "df = pd.concat([df, belong_desanidado], axis=1)\n",
    "\n",
    "# Ya podemos borrar la columna auxiliar, belongs_to_collection_type\n",
    "df = df.drop(columns=['belongs_to_collection_type'])"
   ]
  },
  {
   "cell_type": "markdown",
   "metadata": {},
   "source": [
    "### Desanidemos las demas columnas anidadas. `genres`. Que al ser una lista de diccionarios, tiene un procedimiento distinto."
   ]
  },
  {
   "cell_type": "code",
   "execution_count": 41,
   "metadata": {},
   "outputs": [],
   "source": [
    "# La funcion convert_dict() no funcionaria en esta columna. ya que son listas de diccionarios y no un solo diccionario.\n",
    "\n",
    "import json\n",
    "import pandas as pd\n",
    "\n",
    "# Convertir posibles listas de diccionarios categorizadas como str en listas\n",
    "def convert_listdict(val: any) -> list | str | None:\n",
    "    \"\"\"\n",
    "    Convierte una posible lista de diccionarios en formato (type:str) en una lista de diccionarios (type:list).\n",
    "    Si la entrada es NaN, devuelve None. Si el valor ya es una lista, lo devuelve sin cambios.\n",
    "    Para entradas str, intenta analizarla como JSON después de reemplazar comillas simples por comillas dobles.\n",
    "    Si la cadena no es una lista válida, devuelve su forma original de str.\n",
    "\n",
    "    Parameters:\n",
    "    --------\n",
    "    val: Any\n",
    "        El valor a verificar y convertir, puede ser str, list o Nan.\n",
    "\n",
    "    Returns:\n",
    "    --------\n",
    "    list | str | None:\n",
    "        list si la conversión es exitosa, str si no puede convertirse en lista, None si ya era nulo.\n",
    "    \"\"\"\n",
    "    \n",
    "    if pd.isna(val):\n",
    "        return None\n",
    "\n",
    "    if isinstance(val, str):\n",
    "        try:\n",
    "            # Reemplazar comillas simples por dobles para un JSON válido\n",
    "            val = val.replace(\"'\", '\"')\n",
    "            # Convertir la cadena a un objeto JSON (lista de diccionarios)\n",
    "            converted = json.loads(val)\n",
    "            if isinstance(converted, list) and all(isinstance(item, dict) for item in converted):\n",
    "                return converted\n",
    "            else:\n",
    "                # Si el JSON no es una lista de diccionarios, devolver la cadena original\n",
    "                return val\n",
    "        except (ValueError, json.JSONDecodeError) as e:\n",
    "            #print(f\"Error convirtiendo el valor: {val}\\nError: {e}\")\n",
    "            return val\n",
    "    \n",
    "    return val  # Si ya es una lista, lo devolvemos sin cambiar\n",
    "\n",
    "# Aplicar la función a la columna 'genres'\n",
    "df['genres'] = df['genres'].apply(convert_listdict)"
   ]
  },
  {
   "cell_type": "code",
   "execution_count": 42,
   "metadata": {},
   "outputs": [
    {
     "data": {
      "text/plain": [
       "genres\n",
       "<class 'list'>        45376\n",
       "<class 'NoneType'>       88\n",
       "Name: count, dtype: int64"
      ]
     },
     "execution_count": 42,
     "metadata": {},
     "output_type": "execute_result"
    }
   ],
   "source": [
    "# Mas del 99% del dataset fue transformado exitosamente.\n",
    "df['genres'].apply(type).value_counts()"
   ]
  },
  {
   "cell_type": "markdown",
   "metadata": {},
   "source": [
    "Como estos son listas de diccionarios y no un solo diccionario con unico valor para cada fila, la logica es que existan multiples valores `id` y `names` para cada fila.\n",
    "Por lo tanto voy a usar lo logica de joins de SQL. Poniendo solo un identificador unico para cada fila de `genres` llamado `genres_id` en el dataframe orignal, pero que ese `genres_id` pueda compartir multiples valores en la tabla `genres_desanidado`. que luego puede ser mergeada o concatenada para saber sus multiples valores. "
   ]
  },
  {
   "cell_type": "code",
   "execution_count": 43,
   "metadata": {},
   "outputs": [],
   "source": [
    "import pandas as pd\n",
    "from pandas import DataFrame\n",
    "\n",
    "def desanidar_columnas(df:DataFrame,\n",
    "                       columna:str,\n",
    "                       nombre_nueva_tabla: str,\n",
    "                       indice_increment:int=0) -> DataFrame:\n",
    "    \"\"\"\n",
    "    Desanida una columna en un DataFrame, genera un ID único que relaciona\n",
    "    la tabla original con nombre_nueva_tabla desanidada.\n",
    "    Antes de aplicar esta funcion tienes que aplicar la funcion convert_listdict() , o la funcion convert_dict() segun su caso.\n",
    "    o verificar que el tipo de dato de la columna ya este transformado.\n",
    "\n",
    "    Parameters:\n",
    "    ----------\n",
    "    df (DataFrame):\n",
    "        DataFrame original, donde se insertara el indice.\n",
    "    columna (str):\n",
    "        Nombre de la columna del df a desanidar. Verificar que el tipo de dato este en list, o dict.\n",
    "    nombre_nueva_tabla (str):\n",
    "        Nombre de la tabla donde se pondran los datos desanidados.\n",
    "    nombre_exploded (str):\n",
    "        Nombre de la tabla donde se pondran los datos de la funcion exlpoded.\n",
    "    indice_increment (int):\n",
    "        Valor opcional a sumar al índice para crear el id único.\n",
    "\n",
    "    Return:\n",
    "    --------\n",
    "    nombre_nueva_tabla (DataFrame): Nuevo DataFrame desanidado, con el nombre asignado\n",
    "    \"\"\"\n",
    "    df = df\n",
    "    \n",
    "    # Crear el ID único en el DataFrame original\n",
    "    df[f'{columna}_id'] = df.index + indice_increment\n",
    "\n",
    "    # Explode para desanidar la columna de listas\n",
    "    df_exploded = df.explode(columna)\n",
    "\n",
    "    # Normalizar los datos y creacion de la columna desanidada\n",
    "    nombre_nueva_tabla = pd.json_normalize(df_exploded[columna])\n",
    "    # Asignar el ID único para relacionar las tablas\n",
    "    nombre_nueva_tabla[f'{columna}_id'] = df_exploded[f'{columna}_id'].values\n",
    "\n",
    "    return nombre_nueva_tabla\n"
   ]
  },
  {
   "cell_type": "code",
   "execution_count": 44,
   "metadata": {},
   "outputs": [
    {
     "data": {
      "text/html": [
       "<div>\n",
       "<style scoped>\n",
       "    .dataframe tbody tr th:only-of-type {\n",
       "        vertical-align: middle;\n",
       "    }\n",
       "\n",
       "    .dataframe tbody tr th {\n",
       "        vertical-align: top;\n",
       "    }\n",
       "\n",
       "    .dataframe thead th {\n",
       "        text-align: right;\n",
       "    }\n",
       "</style>\n",
       "<table border=\"1\" class=\"dataframe\">\n",
       "  <thead>\n",
       "    <tr style=\"text-align: right;\">\n",
       "      <th></th>\n",
       "      <th>id</th>\n",
       "      <th>name</th>\n",
       "      <th>genres_id</th>\n",
       "    </tr>\n",
       "  </thead>\n",
       "  <tbody>\n",
       "    <tr>\n",
       "      <th>0</th>\n",
       "      <td>16.0</td>\n",
       "      <td>Animation</td>\n",
       "      <td>0</td>\n",
       "    </tr>\n",
       "    <tr>\n",
       "      <th>1</th>\n",
       "      <td>35.0</td>\n",
       "      <td>Comedy</td>\n",
       "      <td>0</td>\n",
       "    </tr>\n",
       "    <tr>\n",
       "      <th>2</th>\n",
       "      <td>10751.0</td>\n",
       "      <td>Family</td>\n",
       "      <td>0</td>\n",
       "    </tr>\n",
       "    <tr>\n",
       "      <th>3</th>\n",
       "      <td>12.0</td>\n",
       "      <td>Adventure</td>\n",
       "      <td>1</td>\n",
       "    </tr>\n",
       "  </tbody>\n",
       "</table>\n",
       "</div>"
      ],
      "text/plain": [
       "        id       name  genres_id\n",
       "0     16.0  Animation          0\n",
       "1     35.0     Comedy          0\n",
       "2  10751.0     Family          0\n",
       "3     12.0  Adventure          1"
      ]
     },
     "execution_count": 44,
     "metadata": {},
     "output_type": "execute_result"
    }
   ],
   "source": [
    "# Aplicamos la funcion y ahora tenemos la tabla desanidada y la tabla original con los id pertenecientes de la tabla desanidada.\n",
    "#Le asignamos el nombre que en realidad es un Dataframe a una variable.\n",
    "genres_desanidado = desanidar_columnas(df, 'genres', 'genres_desanidado')\n",
    "\n",
    "genres_desanidado.head(4)"
   ]
  },
  {
   "cell_type": "markdown",
   "metadata": {},
   "source": [
    "### Sigamos desanidado columnas anidadas. Ahora: `production_companies`."
   ]
  },
  {
   "cell_type": "code",
   "execution_count": 45,
   "metadata": {},
   "outputs": [
    {
     "data": {
      "text/plain": [
       "production_companies\n",
       "<class 'str'>      45376\n",
       "<class 'float'>       88\n",
       "Name: count, dtype: int64"
      ]
     },
     "execution_count": 45,
     "metadata": {},
     "output_type": "execute_result"
    }
   ],
   "source": [
    "# Vemos que la mayoria de los valores son listas de diccionarios mal tipeados. y que contiene 88 floats.\n",
    "df['production_companies'].apply(type).value_counts()"
   ]
  },
  {
   "cell_type": "code",
   "execution_count": 46,
   "metadata": {},
   "outputs": [
    {
     "data": {
      "text/html": [
       "<div>\n",
       "<style scoped>\n",
       "    .dataframe tbody tr th:only-of-type {\n",
       "        vertical-align: middle;\n",
       "    }\n",
       "\n",
       "    .dataframe tbody tr th {\n",
       "        vertical-align: top;\n",
       "    }\n",
       "\n",
       "    .dataframe thead th {\n",
       "        text-align: right;\n",
       "    }\n",
       "</style>\n",
       "<table border=\"1\" class=\"dataframe\">\n",
       "  <thead>\n",
       "    <tr style=\"text-align: right;\">\n",
       "      <th></th>\n",
       "      <th>belongs_to_collection</th>\n",
       "      <th>budget</th>\n",
       "      <th>genres</th>\n",
       "      <th>id</th>\n",
       "      <th>original_language</th>\n",
       "      <th>overview</th>\n",
       "      <th>popularity</th>\n",
       "      <th>production_companies</th>\n",
       "      <th>production_countries</th>\n",
       "      <th>release_date</th>\n",
       "      <th>...</th>\n",
       "      <th>title</th>\n",
       "      <th>vote_average</th>\n",
       "      <th>vote_count</th>\n",
       "      <th>release_year</th>\n",
       "      <th>return</th>\n",
       "      <th>btc_id</th>\n",
       "      <th>btc_name</th>\n",
       "      <th>btc_poster_path</th>\n",
       "      <th>btc_backdrop_path</th>\n",
       "      <th>genres_id</th>\n",
       "    </tr>\n",
       "  </thead>\n",
       "  <tbody>\n",
       "    <tr>\n",
       "      <th>711</th>\n",
       "      <td>NaN</td>\n",
       "      <td>NaN</td>\n",
       "      <td>None</td>\n",
       "      <td>NaN</td>\n",
       "      <td>NaN</td>\n",
       "      <td>NaN</td>\n",
       "      <td>NaN</td>\n",
       "      <td>NaN</td>\n",
       "      <td>NaN</td>\n",
       "      <td>NaT</td>\n",
       "      <td>...</td>\n",
       "      <td>NaN</td>\n",
       "      <td>NaN</td>\n",
       "      <td>NaN</td>\n",
       "      <td>NaN</td>\n",
       "      <td>NaN</td>\n",
       "      <td>NaN</td>\n",
       "      <td>NaN</td>\n",
       "      <td>NaN</td>\n",
       "      <td>NaN</td>\n",
       "      <td>711</td>\n",
       "    </tr>\n",
       "    <tr>\n",
       "      <th>734</th>\n",
       "      <td>NaN</td>\n",
       "      <td>NaN</td>\n",
       "      <td>None</td>\n",
       "      <td>NaN</td>\n",
       "      <td>NaN</td>\n",
       "      <td>NaN</td>\n",
       "      <td>NaN</td>\n",
       "      <td>NaN</td>\n",
       "      <td>NaN</td>\n",
       "      <td>NaT</td>\n",
       "      <td>...</td>\n",
       "      <td>NaN</td>\n",
       "      <td>NaN</td>\n",
       "      <td>NaN</td>\n",
       "      <td>NaN</td>\n",
       "      <td>NaN</td>\n",
       "      <td>NaN</td>\n",
       "      <td>NaN</td>\n",
       "      <td>NaN</td>\n",
       "      <td>NaN</td>\n",
       "      <td>734</td>\n",
       "    </tr>\n",
       "    <tr>\n",
       "      <th>3460</th>\n",
       "      <td>NaN</td>\n",
       "      <td>NaN</td>\n",
       "      <td>None</td>\n",
       "      <td>NaN</td>\n",
       "      <td>NaN</td>\n",
       "      <td>NaN</td>\n",
       "      <td>NaN</td>\n",
       "      <td>NaN</td>\n",
       "      <td>NaN</td>\n",
       "      <td>NaT</td>\n",
       "      <td>...</td>\n",
       "      <td>NaN</td>\n",
       "      <td>NaN</td>\n",
       "      <td>NaN</td>\n",
       "      <td>NaN</td>\n",
       "      <td>NaN</td>\n",
       "      <td>NaN</td>\n",
       "      <td>NaN</td>\n",
       "      <td>NaN</td>\n",
       "      <td>NaN</td>\n",
       "      <td>3460</td>\n",
       "    </tr>\n",
       "    <tr>\n",
       "      <th>3628</th>\n",
       "      <td>NaN</td>\n",
       "      <td>NaN</td>\n",
       "      <td>None</td>\n",
       "      <td>NaN</td>\n",
       "      <td>NaN</td>\n",
       "      <td>NaN</td>\n",
       "      <td>NaN</td>\n",
       "      <td>NaN</td>\n",
       "      <td>NaN</td>\n",
       "      <td>NaT</td>\n",
       "      <td>...</td>\n",
       "      <td>NaN</td>\n",
       "      <td>NaN</td>\n",
       "      <td>NaN</td>\n",
       "      <td>NaN</td>\n",
       "      <td>NaN</td>\n",
       "      <td>NaN</td>\n",
       "      <td>NaN</td>\n",
       "      <td>NaN</td>\n",
       "      <td>NaN</td>\n",
       "      <td>3628</td>\n",
       "    </tr>\n",
       "    <tr>\n",
       "      <th>5879</th>\n",
       "      <td>NaN</td>\n",
       "      <td>NaN</td>\n",
       "      <td>None</td>\n",
       "      <td>NaN</td>\n",
       "      <td>NaN</td>\n",
       "      <td>NaN</td>\n",
       "      <td>NaN</td>\n",
       "      <td>NaN</td>\n",
       "      <td>NaN</td>\n",
       "      <td>NaT</td>\n",
       "      <td>...</td>\n",
       "      <td>NaN</td>\n",
       "      <td>NaN</td>\n",
       "      <td>NaN</td>\n",
       "      <td>NaN</td>\n",
       "      <td>NaN</td>\n",
       "      <td>NaN</td>\n",
       "      <td>NaN</td>\n",
       "      <td>NaN</td>\n",
       "      <td>NaN</td>\n",
       "      <td>5879</td>\n",
       "    </tr>\n",
       "  </tbody>\n",
       "</table>\n",
       "<p>5 rows × 25 columns</p>\n",
       "</div>"
      ],
      "text/plain": [
       "     belongs_to_collection  budget genres  id original_language overview  \\\n",
       "711                    NaN     NaN   None NaN               NaN      NaN   \n",
       "734                    NaN     NaN   None NaN               NaN      NaN   \n",
       "3460                   NaN     NaN   None NaN               NaN      NaN   \n",
       "3628                   NaN     NaN   None NaN               NaN      NaN   \n",
       "5879                   NaN     NaN   None NaN               NaN      NaN   \n",
       "\n",
       "      popularity production_companies production_countries release_date  ...  \\\n",
       "711          NaN                  NaN                  NaN          NaT  ...   \n",
       "734          NaN                  NaN                  NaN          NaT  ...   \n",
       "3460         NaN                  NaN                  NaN          NaT  ...   \n",
       "3628         NaN                  NaN                  NaN          NaT  ...   \n",
       "5879         NaN                  NaN                  NaN          NaT  ...   \n",
       "\n",
       "      title  vote_average vote_count release_year return btc_id  btc_name  \\\n",
       "711     NaN           NaN        NaN          NaN    NaN    NaN       NaN   \n",
       "734     NaN           NaN        NaN          NaN    NaN    NaN       NaN   \n",
       "3460    NaN           NaN        NaN          NaN    NaN    NaN       NaN   \n",
       "3628    NaN           NaN        NaN          NaN    NaN    NaN       NaN   \n",
       "5879    NaN           NaN        NaN          NaN    NaN    NaN       NaN   \n",
       "\n",
       "      btc_poster_path  btc_backdrop_path  genres_id  \n",
       "711               NaN                NaN        711  \n",
       "734               NaN                NaN        734  \n",
       "3460              NaN                NaN       3460  \n",
       "3628              NaN                NaN       3628  \n",
       "5879              NaN                NaN       5879  \n",
       "\n",
       "[5 rows x 25 columns]"
      ]
     },
     "execution_count": 46,
     "metadata": {},
     "output_type": "execute_result"
    }
   ],
   "source": [
    "# Al verificar los floats, vemos que contiene nulos en todas las columnas. Por ende eliminaremos estas filas.\n",
    "# pd.set_option('display.max_rows', None) # Con este codigo verificamos las 88 filas. Descomentar para verificar.\n",
    "df[df['production_companies'].apply(lambda x: isinstance(x, float))].head(5)"
   ]
  },
  {
   "cell_type": "code",
   "execution_count": 47,
   "metadata": {},
   "outputs": [],
   "source": [
    "#Eliminar esos floats nulos.\n",
    "df = df.dropna(subset=['production_companies'])"
   ]
  },
  {
   "cell_type": "code",
   "execution_count": 48,
   "metadata": {},
   "outputs": [
    {
     "data": {
      "text/plain": [
       "production_companies\n",
       "<class 'list'>    44892\n",
       "<class 'str'>       484\n",
       "Name: count, dtype: int64"
      ]
     },
     "execution_count": 48,
     "metadata": {},
     "output_type": "execute_result"
    }
   ],
   "source": [
    "# Podemos aplicar la misma funcion que usamos en 'genres' ya que aqui tambien son listas de diccionarios.\n",
    "df['production_companies'] = df['production_companies'].apply(convert_listdict)\n",
    "df['production_companies'].apply(type).value_counts()\n",
    "\n",
    "# No es 100% exitosa por problemas de comillas dobles pero mas del 98% del dataset fue transformado con exito."
   ]
  },
  {
   "cell_type": "code",
   "execution_count": 49,
   "metadata": {},
   "outputs": [
    {
     "data": {
      "text/html": [
       "<div>\n",
       "<style scoped>\n",
       "    .dataframe tbody tr th:only-of-type {\n",
       "        vertical-align: middle;\n",
       "    }\n",
       "\n",
       "    .dataframe tbody tr th {\n",
       "        vertical-align: top;\n",
       "    }\n",
       "\n",
       "    .dataframe thead th {\n",
       "        text-align: right;\n",
       "    }\n",
       "</style>\n",
       "<table border=\"1\" class=\"dataframe\">\n",
       "  <thead>\n",
       "    <tr style=\"text-align: right;\">\n",
       "      <th></th>\n",
       "      <th>name</th>\n",
       "      <th>id</th>\n",
       "      <th>production_companies_id</th>\n",
       "    </tr>\n",
       "  </thead>\n",
       "  <tbody>\n",
       "    <tr>\n",
       "      <th>0</th>\n",
       "      <td>Pixar Animation Studios</td>\n",
       "      <td>3.0</td>\n",
       "      <td>1</td>\n",
       "    </tr>\n",
       "    <tr>\n",
       "      <th>1</th>\n",
       "      <td>TriStar Pictures</td>\n",
       "      <td>559.0</td>\n",
       "      <td>2</td>\n",
       "    </tr>\n",
       "    <tr>\n",
       "      <th>2</th>\n",
       "      <td>Teitler Film</td>\n",
       "      <td>2550.0</td>\n",
       "      <td>2</td>\n",
       "    </tr>\n",
       "    <tr>\n",
       "      <th>3</th>\n",
       "      <td>Interscope Communications</td>\n",
       "      <td>10201.0</td>\n",
       "      <td>2</td>\n",
       "    </tr>\n",
       "  </tbody>\n",
       "</table>\n",
       "</div>"
      ],
      "text/plain": [
       "                        name       id  production_companies_id\n",
       "0    Pixar Animation Studios      3.0                        1\n",
       "1           TriStar Pictures    559.0                        2\n",
       "2               Teitler Film   2550.0                        2\n",
       "3  Interscope Communications  10201.0                        2"
      ]
     },
     "execution_count": 49,
     "metadata": {},
     "output_type": "execute_result"
    }
   ],
   "source": [
    "# Aplicamos la funcion que desanida las columnas en otra tabla. \n",
    "# 1 es para que no sean igual los id a genres_id\n",
    "# Lo asignamos como una variable que es ahi donde estaran las tablas\n",
    "pc_desanidado = desanidar_columnas(df, 'production_companies', 'pc_desanidado', 1)\n",
    "\n",
    "pc_desanidado.head(4)"
   ]
  },
  {
   "cell_type": "markdown",
   "metadata": {},
   "source": [
    "### Sigamos desanidando. Ahora: `production_countries`. Que contiene el mismo formato de datos que production_companies."
   ]
  },
  {
   "cell_type": "code",
   "execution_count": 50,
   "metadata": {},
   "outputs": [
    {
     "data": {
      "text/plain": [
       "production_countries\n",
       "<class 'list'>    45371\n",
       "<class 'str'>         5\n",
       "Name: count, dtype: int64"
      ]
     },
     "execution_count": 50,
     "metadata": {},
     "output_type": "execute_result"
    }
   ],
   "source": [
    "# Seguimos aplicando la misma funcion. Con mas de 99% de exito. \n",
    "df['production_countries'] = df['production_countries'].apply(convert_listdict)\n",
    "df['production_countries'].apply(type).value_counts()"
   ]
  },
  {
   "cell_type": "code",
   "execution_count": 51,
   "metadata": {},
   "outputs": [
    {
     "data": {
      "text/html": [
       "<div>\n",
       "<style scoped>\n",
       "    .dataframe tbody tr th:only-of-type {\n",
       "        vertical-align: middle;\n",
       "    }\n",
       "\n",
       "    .dataframe tbody tr th {\n",
       "        vertical-align: top;\n",
       "    }\n",
       "\n",
       "    .dataframe thead th {\n",
       "        text-align: right;\n",
       "    }\n",
       "</style>\n",
       "<table border=\"1\" class=\"dataframe\">\n",
       "  <thead>\n",
       "    <tr style=\"text-align: right;\">\n",
       "      <th></th>\n",
       "      <th>iso_3166_1</th>\n",
       "      <th>name</th>\n",
       "      <th>production_countries_id</th>\n",
       "    </tr>\n",
       "  </thead>\n",
       "  <tbody>\n",
       "    <tr>\n",
       "      <th>0</th>\n",
       "      <td>US</td>\n",
       "      <td>United States of America</td>\n",
       "      <td>2</td>\n",
       "    </tr>\n",
       "    <tr>\n",
       "      <th>1</th>\n",
       "      <td>US</td>\n",
       "      <td>United States of America</td>\n",
       "      <td>3</td>\n",
       "    </tr>\n",
       "    <tr>\n",
       "      <th>2</th>\n",
       "      <td>US</td>\n",
       "      <td>United States of America</td>\n",
       "      <td>4</td>\n",
       "    </tr>\n",
       "    <tr>\n",
       "      <th>3</th>\n",
       "      <td>US</td>\n",
       "      <td>United States of America</td>\n",
       "      <td>5</td>\n",
       "    </tr>\n",
       "  </tbody>\n",
       "</table>\n",
       "</div>"
      ],
      "text/plain": [
       "  iso_3166_1                      name  production_countries_id\n",
       "0         US  United States of America                        2\n",
       "1         US  United States of America                        3\n",
       "2         US  United States of America                        4\n",
       "3         US  United States of America                        5"
      ]
     },
     "execution_count": 51,
     "metadata": {},
     "output_type": "execute_result"
    }
   ],
   "source": [
    "# Aplicamos la funcion que desanida las columnas en otra tabla. \n",
    "# Lo asignamos como una variable que es ahi donde estaran las tablas\n",
    "pctry_desanidado = desanidar_columnas(df, 'production_countries', 'pctry_desanidado', 2)\n",
    "\n",
    "pctry_desanidado.head(4)"
   ]
  },
  {
   "cell_type": "markdown",
   "metadata": {},
   "source": [
    "### Desanidemos `spoken_languages`. Otra lista de diccionarios. Que repite el mismo procedimiento."
   ]
  },
  {
   "cell_type": "code",
   "execution_count": 52,
   "metadata": {},
   "outputs": [
    {
     "data": {
      "text/plain": [
       "spoken_languages\n",
       "<class 'list'>    45350\n",
       "<class 'str'>        26\n",
       "Name: count, dtype: int64"
      ]
     },
     "execution_count": 52,
     "metadata": {},
     "output_type": "execute_result"
    }
   ],
   "source": [
    "df['spoken_languages'] = df['spoken_languages'].apply(convert_listdict)\n",
    "df['spoken_languages'].apply(type).value_counts()"
   ]
  },
  {
   "cell_type": "code",
   "execution_count": 53,
   "metadata": {},
   "outputs": [
    {
     "data": {
      "text/html": [
       "<div>\n",
       "<style scoped>\n",
       "    .dataframe tbody tr th:only-of-type {\n",
       "        vertical-align: middle;\n",
       "    }\n",
       "\n",
       "    .dataframe tbody tr th {\n",
       "        vertical-align: top;\n",
       "    }\n",
       "\n",
       "    .dataframe thead th {\n",
       "        text-align: right;\n",
       "    }\n",
       "</style>\n",
       "<table border=\"1\" class=\"dataframe\">\n",
       "  <thead>\n",
       "    <tr style=\"text-align: right;\">\n",
       "      <th></th>\n",
       "      <th>iso_639_1</th>\n",
       "      <th>name</th>\n",
       "      <th>spoken_languages_id</th>\n",
       "    </tr>\n",
       "  </thead>\n",
       "  <tbody>\n",
       "    <tr>\n",
       "      <th>0</th>\n",
       "      <td>en</td>\n",
       "      <td>English</td>\n",
       "      <td>3</td>\n",
       "    </tr>\n",
       "    <tr>\n",
       "      <th>1</th>\n",
       "      <td>en</td>\n",
       "      <td>English</td>\n",
       "      <td>4</td>\n",
       "    </tr>\n",
       "    <tr>\n",
       "      <th>2</th>\n",
       "      <td>fr</td>\n",
       "      <td>Français</td>\n",
       "      <td>4</td>\n",
       "    </tr>\n",
       "    <tr>\n",
       "      <th>3</th>\n",
       "      <td>en</td>\n",
       "      <td>English</td>\n",
       "      <td>5</td>\n",
       "    </tr>\n",
       "  </tbody>\n",
       "</table>\n",
       "</div>"
      ],
      "text/plain": [
       "  iso_639_1      name  spoken_languages_id\n",
       "0        en   English                    3\n",
       "1        en   English                    4\n",
       "2        fr  Français                    4\n",
       "3        en   English                    5"
      ]
     },
     "execution_count": 53,
     "metadata": {},
     "output_type": "execute_result"
    }
   ],
   "source": [
    "# Aplicamos la funcion que desanida las columnas en otra tabla. \n",
    "# Lo asignamos como una variable que es ahi donde estaran las tablas\n",
    "slan_desanidado = desanidar_columnas(df, 'spoken_languages', 'slan_desanidado', 3)\n",
    "\n",
    "slan_desanidado.head(4)\n"
   ]
  },
  {
   "cell_type": "markdown",
   "metadata": {},
   "source": [
    "Modificaciones necesarias para la API"
   ]
  },
  {
   "cell_type": "code",
   "execution_count": 88,
   "metadata": {},
   "outputs": [],
   "source": [
    "# Cambiamos a minisculas las peliculas para que la api no diferencie entre minusculas y mayusculas los titulos.\n",
    "df['title'] = df['title'].str.lower()\n",
    "\n",
    "# columnas tipo float. cambiemoslo a int.\n",
    "df['release_year'] = df['release_year'].astype(int)\n",
    "df['vote_count'] = df['vote_count'].astype(int)"
   ]
  },
  {
   "cell_type": "code",
   "execution_count": 92,
   "metadata": {},
   "outputs": [
    {
     "data": {
      "text/html": [
       "<div>\n",
       "<style scoped>\n",
       "    .dataframe tbody tr th:only-of-type {\n",
       "        vertical-align: middle;\n",
       "    }\n",
       "\n",
       "    .dataframe tbody tr th {\n",
       "        vertical-align: top;\n",
       "    }\n",
       "\n",
       "    .dataframe thead th {\n",
       "        text-align: right;\n",
       "    }\n",
       "</style>\n",
       "<table border=\"1\" class=\"dataframe\">\n",
       "  <thead>\n",
       "    <tr style=\"text-align: right;\">\n",
       "      <th></th>\n",
       "      <th>title</th>\n",
       "      <th>vote_count</th>\n",
       "    </tr>\n",
       "  </thead>\n",
       "  <tbody>\n",
       "    <tr>\n",
       "      <th>0</th>\n",
       "      <td>toy story</td>\n",
       "      <td>5415</td>\n",
       "    </tr>\n",
       "    <tr>\n",
       "      <th>1</th>\n",
       "      <td>jumanji</td>\n",
       "      <td>2413</td>\n",
       "    </tr>\n",
       "    <tr>\n",
       "      <th>2</th>\n",
       "      <td>grumpier old men</td>\n",
       "      <td>92</td>\n",
       "    </tr>\n",
       "    <tr>\n",
       "      <th>3</th>\n",
       "      <td>waiting to exhale</td>\n",
       "      <td>34</td>\n",
       "    </tr>\n",
       "    <tr>\n",
       "      <th>4</th>\n",
       "      <td>father of the bride part ii</td>\n",
       "      <td>173</td>\n",
       "    </tr>\n",
       "    <tr>\n",
       "      <th>...</th>\n",
       "      <td>...</td>\n",
       "      <td>...</td>\n",
       "    </tr>\n",
       "    <tr>\n",
       "      <th>45371</th>\n",
       "      <td>robin hood</td>\n",
       "      <td>26</td>\n",
       "    </tr>\n",
       "    <tr>\n",
       "      <th>45372</th>\n",
       "      <td>century of birthing</td>\n",
       "      <td>3</td>\n",
       "    </tr>\n",
       "    <tr>\n",
       "      <th>45373</th>\n",
       "      <td>betrayal</td>\n",
       "      <td>6</td>\n",
       "    </tr>\n",
       "    <tr>\n",
       "      <th>45374</th>\n",
       "      <td>satan triumphant</td>\n",
       "      <td>0</td>\n",
       "    </tr>\n",
       "    <tr>\n",
       "      <th>45375</th>\n",
       "      <td>queerama</td>\n",
       "      <td>0</td>\n",
       "    </tr>\n",
       "  </tbody>\n",
       "</table>\n",
       "<p>45376 rows × 2 columns</p>\n",
       "</div>"
      ],
      "text/plain": [
       "                             title  vote_count\n",
       "0                        toy story        5415\n",
       "1                          jumanji        2413\n",
       "2                 grumpier old men          92\n",
       "3                waiting to exhale          34\n",
       "4      father of the bride part ii         173\n",
       "...                            ...         ...\n",
       "45371                   robin hood          26\n",
       "45372          century of birthing           3\n",
       "45373                     betrayal           6\n",
       "45374             satan triumphant           0\n",
       "45375                     queerama           0\n",
       "\n",
       "[45376 rows x 2 columns]"
      ]
     },
     "execution_count": 92,
     "metadata": {},
     "output_type": "execute_result"
    }
   ],
   "source": [
    "df[['title','vote_count']]"
   ]
  },
  {
   "cell_type": "markdown",
   "metadata": {},
   "source": [
    "Hemos terminado movies_dataset. Asi ha quedado, luego de las transformaciones:"
   ]
  },
  {
   "cell_type": "code",
   "execution_count": 89,
   "metadata": {},
   "outputs": [
    {
     "name": "stdout",
     "output_type": "stream",
     "text": [
      "<class 'pandas.core.frame.DataFrame'>\n",
      "RangeIndex: 45376 entries, 0 to 45375\n",
      "Data columns (total 28 columns):\n",
      " #   Column                   Non-Null Count  Dtype         \n",
      "---  ------                   --------------  -----         \n",
      " 0   belongs_to_collection    4488 non-null   object        \n",
      " 1   budget                   45376 non-null  float64       \n",
      " 2   genres                   45376 non-null  object        \n",
      " 3   id                       45376 non-null  float64       \n",
      " 4   original_language        45365 non-null  object        \n",
      " 5   overview                 44435 non-null  object        \n",
      " 6   popularity               45376 non-null  float64       \n",
      " 7   production_companies     45376 non-null  object        \n",
      " 8   production_countries     45376 non-null  object        \n",
      " 9   release_date             45376 non-null  datetime64[ns]\n",
      " 10  revenue                  45376 non-null  float64       \n",
      " 11  runtime                  45130 non-null  float64       \n",
      " 12  spoken_languages         45376 non-null  object        \n",
      " 13  status                   45296 non-null  object        \n",
      " 14  tagline                  20398 non-null  object        \n",
      " 15  title                    45376 non-null  object        \n",
      " 16  vote_average             45376 non-null  float64       \n",
      " 17  vote_count               45376 non-null  int64         \n",
      " 18  release_year             45376 non-null  int64         \n",
      " 19  return                   45376 non-null  float64       \n",
      " 20  btc_id                   4480 non-null   float64       \n",
      " 21  btc_name                 4480 non-null   object        \n",
      " 22  btc_poster_path          3938 non-null   object        \n",
      " 23  btc_backdrop_path        3254 non-null   object        \n",
      " 24  genres_id                45376 non-null  int64         \n",
      " 25  production_companies_id  45376 non-null  int64         \n",
      " 26  production_countries_id  45376 non-null  int64         \n",
      " 27  spoken_languages_id      45376 non-null  int64         \n",
      "dtypes: datetime64[ns](1), float64(8), int64(6), object(13)\n",
      "memory usage: 9.7+ MB\n"
     ]
    }
   ],
   "source": [
    "df.info()"
   ]
  },
  {
   "cell_type": "markdown",
   "metadata": {},
   "source": [
    "Tambien hemos creado tablas extras:\n",
    "- `genres_desanidado`\n",
    "- `pc_desanidado`\n",
    "- `pctry_desanidado`\n",
    "- `slan_desanidado`\n",
    "\n",
    "que exportaremos a junto con el dataset principal, a la carpeta processed. Ya que ya esta listo para pasar al eda. \n",
    "\n",
    "- Como ya hemos desanidado las listas. volveremos a pasarlas a str, para poder exportarlas."
   ]
  },
  {
   "cell_type": "code",
   "execution_count": 61,
   "metadata": {},
   "outputs": [],
   "source": [
    "def lista_a_str(val):\n",
    "    if isinstance(val, list):\n",
    "        return str(val)\n",
    "    else:\n",
    "        return val\n",
    "\n",
    "# Aplicar la función de conversión a la columna\n",
    "df['production_companies'] = df['production_companies'].apply(lista_a_str)\n",
    "df['production_countries'] = df['production_countries'].apply(lista_a_str)\n",
    "df['spoken_languages'] = df['spoken_languages'].apply(lista_a_str)"
   ]
  },
  {
   "cell_type": "markdown",
   "metadata": {},
   "source": [
    "Exportamos el df principal."
   ]
  },
  {
   "cell_type": "code",
   "execution_count": 90,
   "metadata": {},
   "outputs": [
    {
     "name": "stdout",
     "output_type": "stream",
     "text": [
      "Datos exportados correctamente a 'data/processed'\n"
     ]
    }
   ],
   "source": [
    "# Asegúrate de que el directorio de destino exista\n",
    "output_dir = '../data/processed'\n",
    "os.makedirs(output_dir, exist_ok=True)\n",
    "\n",
    "# Ruta y nombre del archivo a guardar.\n",
    "parquet_path = os.path.join(output_dir, 'movies_dataset_etl.parquet')\n",
    "# Guardar el DataFrame en la carpeta data/processed\n",
    "df.to_parquet(parquet_path, engine='pyarrow', compression='snappy', index=False)\n",
    "\n",
    "print(\"Datos exportados correctamente a 'data/processed'\")"
   ]
  },
  {
   "cell_type": "markdown",
   "metadata": {},
   "source": [
    "Exportamos las tablas extras."
   ]
  },
  {
   "cell_type": "code",
   "execution_count": 64,
   "metadata": {},
   "outputs": [
    {
     "name": "stdout",
     "output_type": "stream",
     "text": [
      "Datos exportados correctamente a 'data/processed'\n"
     ]
    }
   ],
   "source": [
    "# Ruta y nombre del archivo a guardar.\n",
    "parquet_path = os.path.join(output_dir, 'genres_desanidado.parquet')\n",
    "# Guardar el DataFrame en la carpeta data/processed\n",
    "genres_desanidado.to_parquet(parquet_path, engine='pyarrow', compression='snappy', index=False)\n",
    "\n",
    "print(\"Datos exportados correctamente a 'data/processed'\")"
   ]
  },
  {
   "cell_type": "code",
   "execution_count": 65,
   "metadata": {},
   "outputs": [
    {
     "name": "stdout",
     "output_type": "stream",
     "text": [
      "Datos exportados correctamente a 'data/processed'\n"
     ]
    }
   ],
   "source": [
    "# Ruta y nombre del archivo a guardar.\n",
    "parquet_path = os.path.join(output_dir, 'pc_desanidado.parquet')\n",
    "# Guardar el DataFrame en la carpeta data/processed\n",
    "pc_desanidado.to_parquet(parquet_path, engine='pyarrow', compression='snappy', index=False)\n",
    "\n",
    "print(\"Datos exportados correctamente a 'data/processed'\")"
   ]
  },
  {
   "cell_type": "code",
   "execution_count": 66,
   "metadata": {},
   "outputs": [
    {
     "name": "stdout",
     "output_type": "stream",
     "text": [
      "Datos exportados correctamente a 'data/processed'\n"
     ]
    }
   ],
   "source": [
    "# Ruta y nombre del archivo a guardar.\n",
    "parquet_path = os.path.join(output_dir, 'pctry_desanidado.parquet')\n",
    "# Guardar el DataFrame en la carpeta data/processed\n",
    "pctry_desanidado.to_parquet(parquet_path, engine='pyarrow', compression='snappy', index=False)\n",
    "\n",
    "print(\"Datos exportados correctamente a 'data/processed'\")"
   ]
  },
  {
   "cell_type": "code",
   "execution_count": 67,
   "metadata": {},
   "outputs": [
    {
     "name": "stdout",
     "output_type": "stream",
     "text": [
      "Datos exportados correctamente a 'data/processed'\n"
     ]
    }
   ],
   "source": [
    "# Ruta y nombre del archivo a guardar.\n",
    "parquet_path = os.path.join(output_dir, 'slan_desanidado.parquet')\n",
    "# Guardar el DataFrame en la carpeta data/processed\n",
    "slan_desanidado.to_parquet(parquet_path, engine='pyarrow', compression='snappy', index=False)\n",
    "\n",
    "print(\"Datos exportados correctamente a 'data/processed'\")"
   ]
  },
  {
   "cell_type": "markdown",
   "metadata": {},
   "source": [
    "# Ahora credits.csv"
   ]
  },
  {
   "cell_type": "markdown",
   "metadata": {},
   "source": [
    "Transformemos a parquet y leamos el archivo."
   ]
  },
  {
   "cell_type": "code",
   "execution_count": 70,
   "metadata": {},
   "outputs": [],
   "source": [
    "from convert_csv_to_parquet import convertir_csv_a_parquet\n",
    "\n",
    "convertir_csv_a_parquet(\n",
    "    r'C:\\Users\\mauri\\OneDrive\\Escritorio\\MLops\\data\\raw\\credits.csv',\n",
    "    r'C:\\Users\\mauri\\OneDrive\\Escritorio\\MLops\\data\\raw\\credits.parquet'\n",
    ")"
   ]
  },
  {
   "cell_type": "code",
   "execution_count": 68,
   "metadata": {},
   "outputs": [
    {
     "data": {
      "text/html": [
       "<div>\n",
       "<style scoped>\n",
       "    .dataframe tbody tr th:only-of-type {\n",
       "        vertical-align: middle;\n",
       "    }\n",
       "\n",
       "    .dataframe tbody tr th {\n",
       "        vertical-align: top;\n",
       "    }\n",
       "\n",
       "    .dataframe thead th {\n",
       "        text-align: right;\n",
       "    }\n",
       "</style>\n",
       "<table border=\"1\" class=\"dataframe\">\n",
       "  <thead>\n",
       "    <tr style=\"text-align: right;\">\n",
       "      <th></th>\n",
       "      <th>cast</th>\n",
       "      <th>crew</th>\n",
       "      <th>id</th>\n",
       "    </tr>\n",
       "  </thead>\n",
       "  <tbody>\n",
       "    <tr>\n",
       "      <th>0</th>\n",
       "      <td>[{'cast_id': 14, 'character': 'Woody (voice)',...</td>\n",
       "      <td>[{'credit_id': '52fe4284c3a36847f8024f49', 'de...</td>\n",
       "      <td>862</td>\n",
       "    </tr>\n",
       "    <tr>\n",
       "      <th>1</th>\n",
       "      <td>[{'cast_id': 1, 'character': 'Alan Parrish', '...</td>\n",
       "      <td>[{'credit_id': '52fe44bfc3a36847f80a7cd1', 'de...</td>\n",
       "      <td>8844</td>\n",
       "    </tr>\n",
       "    <tr>\n",
       "      <th>2</th>\n",
       "      <td>[{'cast_id': 2, 'character': 'Max Goldman', 'c...</td>\n",
       "      <td>[{'credit_id': '52fe466a9251416c75077a89', 'de...</td>\n",
       "      <td>15602</td>\n",
       "    </tr>\n",
       "  </tbody>\n",
       "</table>\n",
       "</div>"
      ],
      "text/plain": [
       "                                                cast  \\\n",
       "0  [{'cast_id': 14, 'character': 'Woody (voice)',...   \n",
       "1  [{'cast_id': 1, 'character': 'Alan Parrish', '...   \n",
       "2  [{'cast_id': 2, 'character': 'Max Goldman', 'c...   \n",
       "\n",
       "                                                crew     id  \n",
       "0  [{'credit_id': '52fe4284c3a36847f8024f49', 'de...    862  \n",
       "1  [{'credit_id': '52fe44bfc3a36847f80a7cd1', 'de...   8844  \n",
       "2  [{'credit_id': '52fe466a9251416c75077a89', 'de...  15602  "
      ]
     },
     "execution_count": 68,
     "metadata": {},
     "output_type": "execute_result"
    }
   ],
   "source": [
    "import pandas as pd\n",
    "\n",
    "df = pd.read_parquet(r'C:\\Users\\mauri\\OneDrive\\Escritorio\\MLops\\data\\raw\\credits.parquet')\n",
    "df.head(3)"
   ]
  },
  {
   "cell_type": "code",
   "execution_count": 69,
   "metadata": {},
   "outputs": [
    {
     "name": "stdout",
     "output_type": "stream",
     "text": [
      "<class 'pandas.core.frame.DataFrame'>\n",
      "RangeIndex: 45476 entries, 0 to 45475\n",
      "Data columns (total 3 columns):\n",
      " #   Column  Non-Null Count  Dtype \n",
      "---  ------  --------------  ----- \n",
      " 0   cast    45476 non-null  object\n",
      " 1   crew    45476 non-null  object\n",
      " 2   id      45476 non-null  int64 \n",
      "dtypes: int64(1), object(2)\n",
      "memory usage: 1.0+ MB\n"
     ]
    }
   ],
   "source": [
    "df.info()"
   ]
  }
 ],
 "metadata": {
  "kernelspec": {
   "display_name": "EntornoPI",
   "language": "python",
   "name": "python3"
  },
  "language_info": {
   "codemirror_mode": {
    "name": "ipython",
    "version": 3
   },
   "file_extension": ".py",
   "mimetype": "text/x-python",
   "name": "python",
   "nbconvert_exporter": "python",
   "pygments_lexer": "ipython3",
   "version": "3.11.0"
  }
 },
 "nbformat": 4,
 "nbformat_minor": 2
}
