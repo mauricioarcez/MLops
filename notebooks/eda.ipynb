{
 "cells": [
  {
   "cell_type": "markdown",
   "metadata": {},
   "source": [
    "Empecemos un EDA de movies_dataset ya procesado "
   ]
  },
  {
   "cell_type": "code",
   "execution_count": 61,
   "metadata": {},
   "outputs": [],
   "source": [
    "import pandas as pd\n",
    "import seaborn as sns\n",
    "import matplotlib.pyplot as plt\n",
    "import numpy as np\n",
    "\n",
    "# Ver todas las columnas\n",
    "pd.set_option('display.max_columns', None)\n",
    "\n",
    "# Leemos todas nuestras tablas.\n",
    "df = pd.read_parquet(r'C:\\Users\\mauri\\OneDrive\\Escritorio\\MLops\\data\\processed\\movies\\movies_dataset_etl.parquet')\n",
    "genres_desanidado = pd.read_parquet(r'C:\\Users\\mauri\\OneDrive\\Escritorio\\MLops\\data\\processed\\movies\\genres_desanidado.parquet')\n",
    "pc_desanidado = pd.read_parquet(r'C:\\Users\\mauri\\OneDrive\\Escritorio\\MLops\\data\\processed\\movies\\pc_desanidado.parquet')\n",
    "pctry_desanidado = pd.read_parquet(r'C:\\Users\\mauri\\OneDrive\\Escritorio\\MLops\\data\\processed\\movies\\pctry_desanidado.parquet')\n",
    "slan_desanidado = pd.read_parquet(r'C:\\Users\\mauri\\OneDrive\\Escritorio\\MLops\\data\\processed\\movies\\slan_desanidado.parquet')\n"
   ]
  },
  {
   "cell_type": "markdown",
   "metadata": {},
   "source": [
    "### Empecemos con intuiciones, preguntas. Filtros que puedan ayudar a recomendar una pelicula o no.\n",
    "\n",
    "Por ejemplo:\n",
    "- Son todas peliculas de duracion normal? hay series? cortos?"
   ]
  },
  {
   "cell_type": "markdown",
   "metadata": {},
   "source": [
    "Segun una busqueda simple del nombre y año de la peliculas que tienen outliers runtime(<30 | >1000). Resulta haber Miniseries, cortometrajes y peliculas."
   ]
  },
  {
   "cell_type": "code",
   "execution_count": 83,
   "metadata": {},
   "outputs": [
    {
     "data": {
      "image/png": "[encoded data removed]",
      "text/plain": [
       "<Figure size 640x480 with 1 Axes>"
      ]
     },
     "metadata": {},
     "output_type": "display_data"
    },
    {
     "name": "stdout",
     "output_type": "stream",
     "text": [
      "Mediana: 95.0\n",
      "Media: 94.18167516064702\n",
      "Moda: 90.0\n",
      "desviacion std: 38.341058555455525\n"
     ]
    }
   ],
   "source": [
    "duracion = df['runtime'].dropna()\n",
    "sns.countplot(x=duracion)\n",
    "# Limitar el número de ejes X a 5 y correr el eje X para que 0 sea mas visible.\n",
    "plt.xlim(left=-10)\n",
    "plt.xticks(ticks=plt.gca().get_xticks()[::len(plt.gca().get_xticks()) // 5])\n",
    "plt.show()\n",
    "\n",
    "print('Mediana:',duracion.median())\n",
    "print('Media:',duracion.mean())\n",
    "print('Moda:',duracion.mode()[0])\n",
    "print('desviacion std:',duracion.std())"
   ]
  },
  {
   "cell_type": "markdown",
   "metadata": {},
   "source": [
    "Pero, tambien contiene nulos y muchos valores con 0 de duracion.\n",
    "\n",
    "Vamos a rellenar los valores nulos y con 0.  Por su mediana(95) la cual no es afectada por outliers. Ya que la mediana es el centro de los valores ordenados.\n"
   ]
  },
  {
   "cell_type": "code",
   "execution_count": 87,
   "metadata": {},
   "outputs": [],
   "source": [
    "mediana = int(df['runtime'].median())\n",
    "\n",
    "# Reemplazar valores nulos (NaN) con la mediana\n",
    "df['runtime'] = df['runtime'].fillna(mediana)\n",
    "# Reemplazar valores de 0 con la mediana\n",
    "df['runtime'] = df['runtime'].replace(0, mediana)"
   ]
  },
  {
   "cell_type": "markdown",
   "metadata": {},
   "source": [
    "Ahora que no contiene nulos y su informacion esta mas distribuida. Vamos a categorizar estos datos por Corto (<50), Pelicula (entre 50 y 300), y miniserie (> 300). Ya que esto puede diferenciar  y aclarar el gusto de una persona mas que su numero "
   ]
  },
  {
   "cell_type": "markdown",
   "metadata": {},
   "source": [
    "de duracion.\n",
    "\n",
    "Categorizado numericamente para el modelo. De esta forma:\n",
    "- Corto : 0\n",
    "- Pelicula corta : 1\n",
    "- Pelicula muy larga: 2\n",
    "- Miniserie : 3"
   ]
  },
  {
   "cell_type": "code",
   "execution_count": null,
   "metadata": {},
   "outputs": [],
   "source": []
  },
  {
   "cell_type": "code",
   "execution_count": 88,
   "metadata": {},
   "outputs": [
    {
     "name": "stdout",
     "output_type": "stream",
     "text": [
      "<class 'pandas.core.frame.DataFrame'>\n",
      "RangeIndex: 45376 entries, 0 to 45375\n",
      "Data columns (total 21 columns):\n",
      " #   Column                   Non-Null Count  Dtype         \n",
      "---  ------                   --------------  -----         \n",
      " 0   budget                   45376 non-null  float64       \n",
      " 1   id                       45376 non-null  int64         \n",
      " 2   original_language        45365 non-null  object        \n",
      " 3   overview                 44435 non-null  object        \n",
      " 4   popularity               45376 non-null  float64       \n",
      " 5   release_date             45376 non-null  datetime64[ns]\n",
      " 6   revenue                  45376 non-null  float64       \n",
      " 7   runtime                  45376 non-null  float64       \n",
      " 8   status                   45296 non-null  object        \n",
      " 9   tagline                  20398 non-null  object        \n",
      " 10  title                    45376 non-null  object        \n",
      " 11  vote_average             45376 non-null  float64       \n",
      " 12  vote_count               45376 non-null  int64         \n",
      " 13  release_year             45376 non-null  int64         \n",
      " 14  return                   45376 non-null  float64       \n",
      " 15  btc_id                   4480 non-null   float64       \n",
      " 16  btc_name                 4480 non-null   object        \n",
      " 17  genres_id                45376 non-null  int64         \n",
      " 18  production_companies_id  45376 non-null  int64         \n",
      " 19  production_countries_id  45376 non-null  int64         \n",
      " 20  spoken_languages_id      45376 non-null  int64         \n",
      "dtypes: datetime64[ns](1), float64(7), int64(7), object(6)\n",
      "memory usage: 7.3+ MB\n"
     ]
    }
   ],
   "source": [
    "df.info()"
   ]
  }
 ],
 "metadata": {
  "kernelspec": {
   "display_name": "aaEntornoPI",
   "language": "python",
   "name": "python3"
  },
  "language_info": {
   "codemirror_mode": {
    "name": "ipython",
    "version": 3
   },
   "file_extension": ".py",
   "mimetype": "text/x-python",
   "name": "python",
   "nbconvert_exporter": "python",
   "pygments_lexer": "ipython3",
   "version": "3.11.0"
  }
 },
 "nbformat": 4,
 "nbformat_minor": 2
}
